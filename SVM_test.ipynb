{
  "nbformat": 4,
  "nbformat_minor": 0,
  "metadata": {
    "colab": {
      "provenance": [],
      "authorship_tag": "ABX9TyPaMhO3utSD7KxL4Ds/AC/x",
      "include_colab_link": true
    },
    "kernelspec": {
      "name": "python3",
      "display_name": "Python 3"
    },
    "language_info": {
      "name": "python"
    }
  },
  "cells": [
    {
      "cell_type": "markdown",
      "metadata": {
        "id": "view-in-github",
        "colab_type": "text"
      },
      "source": [
        "<a href=\"https://colab.research.google.com/github/dionysusshan/ml/blob/main/SVM_test.ipynb\" target=\"_parent\"><img src=\"https://colab.research.google.com/assets/colab-badge.svg\" alt=\"Open In Colab\"/></a>"
      ]
    },
    {
      "source": [
        "# prompt: python code for data prediction in csv file using the SVM\n",
        "\n",
        "import pandas as pd\n",
        "import numpy as np\n",
        "from sklearn.model_selection import train_test_split\n",
        "from sklearn.svm import SVC\n",
        "from sklearn.metrics import accuracy_score\n",
        "\n",
        "# Load the data from the CSV file\n",
        "data = pd.read_csv('/content/sample_data/imputed_dataset.csv')\n",
        "\n",
        "# Separate the features and labels\n",
        "features = data.iloc[:, :-1]\n",
        "labels = data.iloc[:, -1]\n",
        "\n",
        "# Check if labels are continuous. If so, convert them to discrete categories if applicable.\n",
        "if np.issubdtype(labels.dtype, np.number):  # Check if labels are numeric\n",
        "    # Example: Convert continuous labels to binary categories based on a threshold\n",
        "    threshold = labels.mean()\n",
        "    labels = (labels > threshold).astype(int)  # 1 if above threshold, 0 otherwise\n",
        "    print(\"Labels converted to binary categories.\")\n",
        "else:\n",
        "    print(\"Labels are not continuous.\")\n",
        "\n",
        "# Split the data into training and testing sets\n",
        "X_train, X_test, y_train, y_test = train_test_split(features, labels, test_size=0.25)\n",
        "\n",
        "# Create an SVM classifier\n",
        "clf = SVC(kernel='linear')\n",
        "\n",
        "# Train the classifier\n",
        "clf.fit(X_train, y_train)\n",
        "\n",
        "# Make predictions on the test set\n",
        "predictions = clf.predict(X_test)\n",
        "\n",
        "# Calculate the accuracy of the predictions\n",
        "accuracy = accuracy_score(y_test, predictions)\n",
        "\n",
        "# Print the accuracy\n",
        "print(\"Accuracy:\", accuracy)"
      ],
      "cell_type": "code",
      "metadata": {
        "colab": {
          "base_uri": "https://localhost:8080/"
        },
        "id": "w7EVvgMAH4k6",
        "outputId": "09cd81f6-42ad-4cf8-85cd-425a28c48248"
      },
      "execution_count": null,
      "outputs": [
        {
          "output_type": "stream",
          "name": "stdout",
          "text": [
            "Labels converted to binary categories.\n",
            "Accuracy: 1.0\n"
          ]
        }
      ]
    },
    {
      "cell_type": "code",
      "source": [
        "import numpy as np\n",
        "import pandas as pd\n",
        "from sklearn.model_selection import train_test_split\n",
        "from sklearn.preprocessing import StandardScaler\n",
        "from sklearn.svm import SVR\n",
        "from sklearn.metrics import mean_squared_error, r2_score\n",
        "\n",
        "# Step 1: Load Data\n",
        "# Replace 'your_dataset.csv' with the path to your CSV file\n",
        "file_path = '/content/imputed_dataset.csv'\n",
        "df = pd.read_csv(file_path)\n",
        "\n",
        "# Display the first few rows of the dataset\n",
        "print(\"Original Data:\")\n",
        "print(df.head())\n",
        "\n",
        "# Step 2: Preprocess Data\n",
        "# Assume the last column is the target variable\n",
        "X = df.iloc[:, :-1].values\n",
        "y = df.iloc[:, -1].values\n",
        "\n",
        "# Split the data into training and testing sets\n",
        "X_train, X_test, y_train, y_test = train_test_split(X, y, test_size=0.2, random_state=42)\n",
        "\n",
        "# Scale the features\n",
        "scaler = StandardScaler()\n",
        "X_train = scaler.fit_transform(X_train)\n",
        "X_test = scaler.transform(X_test)\n",
        "\n",
        "# Step 3: Define the SVM Model\n",
        "# For regression, we'll use SVR (Support Vector Regression)\n",
        "svm_model = SVR(kernel='rbf')\n",
        "\n",
        "# Step 4: Train the Model\n",
        "svm_model.fit(X_train, y_train)\n",
        "\n",
        "# Step 5: Make Predictions\n",
        "y_pred = svm_model.predict(X_test)\n",
        "\n",
        "# Step 6: Evaluate the Model\n",
        "mse = mean_squared_error(y_test, y_pred)\n",
        "r2 = r2_score(y_test, y_pred)\n",
        "print(f\"Mean Squared Error: {mse}\")\n",
        "print(f\"R^2 Score: {r2}\")\n",
        "\n",
        "# Optional: Save the model using joblib\n",
        "import joblib\n",
        "joblib.dump(svm_model, '/content/svm_model.pkl')\n",
        "print(\"Model saved as '/content/svm_model.pkl'\")\n"
      ],
      "metadata": {
        "colab": {
          "base_uri": "https://localhost:8080/"
        },
        "id": "6fFNyRieIFD0",
        "outputId": "cb78b2ac-7bb2-4140-834d-6c635313a254"
      },
      "execution_count": 4,
      "outputs": [
        {
          "output_type": "stream",
          "name": "stdout",
          "text": [
            "Original Data:\n",
            "     AQI-IN     PM25    PM10      PM1  Temp(cel)      Hum    Noise  TVOC(ppm)  \\\n",
            "0  114.3580  64.1700  85.939  60.4000    22.6070  98.2770  48.3450     0.0090   \n",
            "1   95.4740  57.2600  75.377  53.9740    22.3730  95.7710  48.3700     0.0100   \n",
            "2   78.3800  47.0450  59.341  44.5980    30.2404  85.4160  48.0780     0.0104   \n",
            "3   65.0780  38.7242  47.500  37.3220    28.1220  65.4868  50.8440     0.0080   \n",
            "4   57.6288  35.5980  42.358  33.3266    30.9720  63.4980  50.1188     0.0100   \n",
            "\n",
            "   CO(ppm)  CO2(ppm)  ...  O3(ppm)  AQI-IN(F)  AQI-IN(s)      CI    VI  \\\n",
            "0    0.392   482.552  ...   0.0210   114.3580   114.3580  9.8730  10.0   \n",
            "1    0.454   486.747  ...   0.0230    95.4740    95.4740  9.0060  10.0   \n",
            "2    0.667   482.067  ...   0.0234    82.1280    78.3800  9.0000  10.0   \n",
            "3    0.680   458.754  ...   0.0260    79.4324    65.0780  9.0272  10.0   \n",
            "4    0.750   455.927  ...   0.0240    76.1730    57.6288  9.0000  10.0   \n",
            "\n",
            "   particle count(0.3)  particle count(0.5)  particle count(1.0)  \\\n",
            "0           19366.7090             2500.933             365.0550   \n",
            "1           13269.0286             2267.409             320.4160   \n",
            "2           14244.0000             1777.883             174.1722   \n",
            "3           11881.1670             1255.455             170.9170   \n",
            "4           10547.3434             1147.922             141.9160   \n",
            "\n",
            "   particle count(3.0)  particle count(5.0)  \n",
            "0             152.1880             0.097000  \n",
            "1              78.9302             0.169000  \n",
            "2              93.7710             0.084000  \n",
            "3              64.2830             0.116667  \n",
            "4              51.9110             0.116667  \n",
            "\n",
            "[5 rows x 22 columns]\n",
            "Mean Squared Error: 0.0024909444444444467\n",
            "R^2 Score: -2.638038054282113\n",
            "Model saved as '/content/svm_model.pkl'\n"
          ]
        }
      ]
    }
  ]
}