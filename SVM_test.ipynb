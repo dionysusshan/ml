{
  "nbformat": 4,
  "nbformat_minor": 0,
  "metadata": {
    "colab": {
      "provenance": [],
      "authorship_tag": "ABX9TyOqaDLQIYn3LyoaMRajMVzd",
      "include_colab_link": true
    },
    "kernelspec": {
      "name": "python3",
      "display_name": "Python 3"
    },
    "language_info": {
      "name": "python"
    }
  },
  "cells": [
    {
      "cell_type": "markdown",
      "metadata": {
        "id": "view-in-github",
        "colab_type": "text"
      },
      "source": [
        "<a href=\"https://colab.research.google.com/github/dionysusshan/ml/blob/main/SVM_test.ipynb\" target=\"_parent\"><img src=\"https://colab.research.google.com/assets/colab-badge.svg\" alt=\"Open In Colab\"/></a>"
      ]
    },
    {
      "source": [
        "# prompt: python code for data prediction in csv file using the SVM\n",
        "\n",
        "import pandas as pd\n",
        "import numpy as np\n",
        "from sklearn.model_selection import train_test_split\n",
        "from sklearn.svm import SVC\n",
        "from sklearn.metrics import accuracy_score\n",
        "\n",
        "# Load the data from the CSV file\n",
        "data = pd.read_csv('/content/sample_data/imputed_dataset.csv')\n",
        "\n",
        "# Separate the features and labels\n",
        "features = data.iloc[:, :-1]\n",
        "labels = data.iloc[:, -1]\n",
        "\n",
        "# Check if labels are continuous. If so, convert them to discrete categories if applicable.\n",
        "if np.issubdtype(labels.dtype, np.number):  # Check if labels are numeric\n",
        "    # Example: Convert continuous labels to binary categories based on a threshold\n",
        "    threshold = labels.mean()\n",
        "    labels = (labels > threshold).astype(int)  # 1 if above threshold, 0 otherwise\n",
        "    print(\"Labels converted to binary categories.\")\n",
        "else:\n",
        "    print(\"Labels are not continuous.\")\n",
        "\n",
        "# Split the data into training and testing sets\n",
        "X_train, X_test, y_train, y_test = train_test_split(features, labels, test_size=0.25)\n",
        "\n",
        "# Create an SVM classifier\n",
        "clf = SVC(kernel='linear')\n",
        "\n",
        "# Train the classifier\n",
        "clf.fit(X_train, y_train)\n",
        "\n",
        "# Make predictions on the test set\n",
        "predictions = clf.predict(X_test)\n",
        "\n",
        "# Calculate the accuracy of the predictions\n",
        "accuracy = accuracy_score(y_test, predictions)\n",
        "\n",
        "# Print the accuracy\n",
        "print(\"Accuracy:\", accuracy)"
      ],
      "cell_type": "code",
      "metadata": {
        "colab": {
          "base_uri": "https://localhost:8080/"
        },
        "id": "w7EVvgMAH4k6",
        "outputId": "09cd81f6-42ad-4cf8-85cd-425a28c48248"
      },
      "execution_count": null,
      "outputs": [
        {
          "output_type": "stream",
          "name": "stdout",
          "text": [
            "Labels converted to binary categories.\n",
            "Accuracy: 1.0\n"
          ]
        }
      ]
    },
    {
      "cell_type": "code",
      "source": [
        "import numpy as np\n",
        "import pandas as pd\n",
        "from sklearn.model_selection import train_test_split\n",
        "from sklearn.preprocessing import StandardScaler\n",
        "from sklearn.svm import SVR\n",
        "from sklearn.metrics import mean_squared_error, r2_score\n",
        "\n",
        "# Step 1: Load Data\n",
        "# Replace 'your_dataset.csv' with the path to your CSV file\n",
        "file_path = '/content/sample_data/imputed_datasetknn.csv'\n",
        "df = pd.read_csv(file_path)\n",
        "\n",
        "# Display the first few rows of the dataset\n",
        "print(\"Original Data:\")\n",
        "print(df.head())\n",
        "\n",
        "# Step 2: Preprocess Data\n",
        "# Assume the last column is the target variable\n",
        "X = df.iloc[:, :-1].values\n",
        "y = df.iloc[:, -1].values\n",
        "\n",
        "# Split the data into training and testing sets\n",
        "X_train, X_test, y_train, y_test = train_test_split(X, y, test_size=0.2, random_state=42)\n",
        "\n",
        "# Scale the features\n",
        "scaler = StandardScaler()\n",
        "X_train = scaler.fit_transform(X_train)\n",
        "X_test = scaler.transform(X_test)\n",
        "\n",
        "# Step 3: Define the SVM Model\n",
        "# For regression, we'll use SVR (Support Vector Regression)\n",
        "svm_model = SVR(kernel='rbf')\n",
        "\n",
        "# Step 4: Train the Model\n",
        "svm_model.fit(X_train, y_train)\n",
        "\n",
        "# Step 5: Make Predictions\n",
        "y_pred = svm_model.predict(X_test)\n",
        "\n",
        "# Step 6: Evaluate the Model\n",
        "mse = mean_squared_error(y_test, y_pred)\n",
        "r2 = r2_score(y_test, y_pred)\n",
        "print(f\"Mean Squared Error: {mse}\")\n",
        "print(f\"R^2 Score: {r2}\")\n",
        "\n",
        "# Optional: Save the model using joblib\n",
        "import joblib\n",
        "joblib.dump(svm_model, '/content/svm_model.pkl')\n",
        "print(\"Model saved as '/content/svm_model.pkl'\")\n"
      ],
      "metadata": {
        "colab": {
          "base_uri": "https://localhost:8080/"
        },
        "id": "6fFNyRieIFD0",
        "outputId": "d31a141b-de01-432b-de8a-57df33045f5b"
      },
      "execution_count": 1,
      "outputs": [
        {
          "output_type": "stream",
          "name": "stdout",
          "text": [
            "Original Data:\n",
            "    AQI-IN    PM25    PM10     PM1  Temp(cel)     Hum   Noise  TVOC(ppm)  \\\n",
            "0  114.358  64.170  85.939  60.400     22.607  98.277  48.345      0.009   \n",
            "1   95.474  57.260  75.377  53.974     22.373  95.771  48.370      0.010   \n",
            "2   78.380  47.045  59.341  44.598     24.292  85.416  48.078      0.008   \n",
            "3   65.078  39.044  47.500  37.322     28.122  71.982  50.844      0.008   \n",
            "4   59.369  35.598  42.358  34.196     30.972  63.498  50.855      0.010   \n",
            "\n",
            "   CO(ppm)  CO2(ppm)  SO2(ppm)  NO2(ppm)  O3(ppm)  AQI-IN(F)     CI    VI  \\\n",
            "0    0.392   482.552     0.002     0.008    0.021    114.358  9.873  10.0   \n",
            "1    0.454   486.747     0.002     0.008    0.023     95.474  9.006  10.0   \n",
            "2    0.667   482.067     0.003     0.009    0.025     82.128  9.000  10.0   \n",
            "3    0.680   462.433     0.002     0.009    0.026     77.250  9.000  10.0   \n",
            "4    0.697   455.927     0.002     0.009    0.024     76.173  9.000  10.0   \n",
            "\n",
            "   particle count(0 3)  particle count(0 5)  particle count(1 0)  \\\n",
            "0            19366.709             2500.933              365.055   \n",
            "1            17307.818             2267.409              320.416   \n",
            "2            14244.000             1777.883              238.547   \n",
            "3            11881.167             1343.428              170.917   \n",
            "4            10850.045             1147.922              141.916   \n",
            "\n",
            "   particle count(3 0)  \n",
            "0              152.188  \n",
            "1              132.013  \n",
            "2               93.771  \n",
            "3               64.283  \n",
            "4               51.911  \n",
            "Mean Squared Error: 442144.67862116976\n",
            "R^2 Score: 0.14996392287348737\n",
            "Model saved as '/content/svm_model.pkl'\n"
          ]
        }
      ]
    }
  ]
}