{
  "nbformat": 4,
  "nbformat_minor": 0,
  "metadata": {
    "colab": {
      "provenance": [],
      "authorship_tag": "ABX9TyMqbxxVVa+ytu10AgHZxoqK",
      "include_colab_link": true
    },
    "kernelspec": {
      "name": "python3",
      "display_name": "Python 3"
    },
    "language_info": {
      "name": "python"
    }
  },
  "cells": [
    {
      "cell_type": "markdown",
      "metadata": {
        "id": "view-in-github",
        "colab_type": "text"
      },
      "source": [
        "<a href=\"https://colab.research.google.com/github/dionysusshan/ml/blob/main/KNN_test.ipynb\" target=\"_parent\"><img src=\"https://colab.research.google.com/assets/colab-badge.svg\" alt=\"Open In Colab\"/></a>"
      ]
    },
    {
      "source": [
        "import numpy as np\n",
        "import pandas as pd\n",
        "from sklearn.model_selection import train_test_split\n",
        "from sklearn.preprocessing import StandardScaler\n",
        "from sklearn.neighbors import KNeighborsRegressor\n",
        "from sklearn.metrics import mean_squared_error, r2_score\n",
        "\n",
        "# Step 1: Load Data\n",
        "# Replace 'your_dataset.csv' with the path to your CSV file\n",
        "file_path = '/content/sample_data/imputed_datasetknn.csv'\n",
        "df = pd.read_csv(file_path)\n",
        "\n",
        "# Display the first few rows of the dataset\n",
        "print(\"Original Data:\")\n",
        "print(df.head())\n",
        "\n",
        "# Step 2: Preprocess Data\n",
        "# Assume the last column is the target variable\n",
        "X = df.iloc[:, :-1].values\n",
        "y = df.iloc[:, -1].values\n",
        "\n",
        "# Split the data into training and testing sets\n",
        "X_train, X_test, y_train, y_test = train_test_split(X, y, test_size=0.2, random_state=42)\n",
        "\n",
        "# Scale the features\n",
        "scaler = StandardScaler()\n",
        "X_train = scaler.fit_transform(X_train)\n",
        "X_test = scaler.transform(X_test)\n",
        "\n",
        "# Step 3: Define the KNN Model\n",
        "# For regression, we'll use KNeighborsRegressor\n",
        "knn_model = KNeighborsRegressor(n_neighbors=5)\n",
        "\n",
        "# Step 4: Train the Model\n",
        "knn_model.fit(X_train, y_train)\n",
        "\n",
        "# Step 5: Make Predictions\n",
        "y_pred = knn_model.predict(X_test)\n",
        "\n",
        "# Step 6: Evaluate the Model\n",
        "mse = mean_squared_error(y_test, y_pred)\n",
        "r2 = r2_score(y_test, y_pred)\n",
        "print(f\"Mean Squared Error: {mse}\")\n",
        "print(f\"R^2 Score: {r2}\")\n",
        "\n",
        "# Optional: Save the model using joblib\n",
        "import joblib\n",
        "joblib.dump(knn_model, 'knn_model.pkl')\n",
        "print(\"Model saved as 'knn_model.pkl'\")\n"
      ],
      "cell_type": "code",
      "metadata": {
        "colab": {
          "base_uri": "https://localhost:8080/"
        },
        "id": "5OqLPXJGdRdj",
        "outputId": "c381b6cd-d7fe-4b06-df65-680bd8118f84"
      },
      "execution_count": 1,
      "outputs": [
        {
          "output_type": "stream",
          "name": "stdout",
          "text": [
            "Original Data:\n",
            "    AQI-IN    PM25    PM10     PM1  Temp(cel)     Hum   Noise  TVOC(ppm)  \\\n",
            "0  114.358  64.170  85.939  60.400     22.607  98.277  48.345      0.009   \n",
            "1   95.474  57.260  75.377  53.974     22.373  95.771  48.370      0.010   \n",
            "2   78.380  47.045  59.341  44.598     24.292  85.416  48.078      0.008   \n",
            "3   65.078  39.044  47.500  37.322     28.122  71.982  50.844      0.008   \n",
            "4   59.369  35.598  42.358  34.196     30.972  63.498  50.855      0.010   \n",
            "\n",
            "   CO(ppm)  CO2(ppm)  SO2(ppm)  NO2(ppm)  O3(ppm)  AQI-IN(F)     CI    VI  \\\n",
            "0    0.392   482.552     0.002     0.008    0.021    114.358  9.873  10.0   \n",
            "1    0.454   486.747     0.002     0.008    0.023     95.474  9.006  10.0   \n",
            "2    0.667   482.067     0.003     0.009    0.025     82.128  9.000  10.0   \n",
            "3    0.680   462.433     0.002     0.009    0.026     77.250  9.000  10.0   \n",
            "4    0.697   455.927     0.002     0.009    0.024     76.173  9.000  10.0   \n",
            "\n",
            "   particle count(0 3)  particle count(0 5)  particle count(1 0)  \\\n",
            "0            19366.709             2500.933              365.055   \n",
            "1            17307.818             2267.409              320.416   \n",
            "2            14244.000             1777.883              238.547   \n",
            "3            11881.167             1343.428              170.917   \n",
            "4            10850.045             1147.922              141.916   \n",
            "\n",
            "   particle count(3 0)  \n",
            "0              152.188  \n",
            "1              132.013  \n",
            "2               93.771  \n",
            "3               64.283  \n",
            "4               51.911  \n",
            "Mean Squared Error: 4442.96206093761\n",
            "R^2 Score: 0.9914582754837649\n",
            "Model saved as 'knn_model.pkl'\n"
          ]
        }
      ]
    }
  ]
}